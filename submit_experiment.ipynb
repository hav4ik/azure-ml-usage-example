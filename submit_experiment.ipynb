{
 "cells": [
  {
   "cell_type": "code",
   "execution_count": 1,
   "metadata": {},
   "outputs": [],
   "source": [
    "!pip install azureml-core --quiet\n",
    "!pip install azure-ml-component --quiet"
   ]
  },
  {
   "attachments": {},
   "cell_type": "markdown",
   "metadata": {},
   "source": [
    "# Connect to AzureML Workspace\n",
    "\n",
    "AML workspace is the top-level resource for Azure Machine Learning, providing a centralized place to work with all the artifacts you create when you use Azure Machine Learning. The workspace holds all your experiments, compute targets, models, datastores, etc.\n",
    "\n",
    "First, download the workspace credentials to `config.json` using the Azure portal. On upper-right corner, click on the \"Visual Studio Enterprise Subscription\" tab, and click on \"Download config file\" link.\n",
    "![](images/config_download.png)"
   ]
  },
  {
   "cell_type": "code",
   "execution_count": 2,
   "metadata": {},
   "outputs": [
    {
     "data": {
      "text/plain": [
       "Workspace.create(name='kaggle', subscription_id='dba5253c-7f60-45fe-86c5-a01af9f846f0', resource_group='kaggle-rg')"
      ]
     },
     "execution_count": 2,
     "metadata": {},
     "output_type": "execute_result"
    }
   ],
   "source": [
    "from azureml.core import Workspace, Experiment, Run, Datastore, Dataset\n",
    "from azure.ml.component import Component, dsl\n",
    "\n",
    "# This will prompt you to login to Azure\n",
    "workspace = Workspace.from_config()\n",
    "\n",
    "# Let's take a look at the workspace information\n",
    "workspace"
   ]
  },
  {
   "attachments": {},
   "cell_type": "markdown",
   "metadata": {},
   "source": [
    "# Uploading a dataset to Azure Blob Storage\n",
    "\n",
    "To upload your dataset to Azure Blob Storage:\n",
    "* Go to \"data\" tab, and click on \"Create\" button.\n",
    "  ![](images/register_dataset_1.png)\n",
    "\n",
    "* Give a unique name to your dataset. Select \"File\" type (AzureML v1 API), and click on \"Next\" button.\n",
    "\n",
    "  IMPORTANT: do not select v2! Otherwise the rest of this tutorial will fail.\n",
    "  ![](images/register_dataset_4.png)\n",
    "\n",
    "* Select \"Upload files from local\" option, and click on \"Next\" button.\n",
    "  ![](images/register_dataset_3.png)\n",
    "\n",
    "* Select \"workspaceblobstore\" as the datastore. Do not use anything else!\n",
    "  ![](images/register_dataset_5.png)\n",
    "\n",
    "* Upload the dataset file, and click on \"Next\" button.\n",
    "  ![](images/register_dataset_2.png)"
   ]
  },
  {
   "attachments": {},
   "cell_type": "markdown",
   "metadata": {},
   "source": [
    "# Submit an experiment that uses your dataset\n",
    "\n",
    "* First, select a base environment. It's easier to start with some default Ubuntu environments officially managed by Microsoft, with Pytorch and other ML libraries pre-installed. List of curated environments in AzureML: [Azure Machine Learning Curated Environments (API v1)](https://learn.microsoft.com/en-us/azure/machine-learning/resource-curated-environments?view=azureml-api-2&viewFallbackFrom=azureml-api-1).\n",
    "  * (Advanced) To create a custom environment, please refer to [Manage Azure Machine Learning environments with the CLI & SDK](https://learn.microsoft.com/en-us/azure/machine-learning/how-to-manage-environments-v2?view=azureml-api-2&tabs=cli&viewFallbackFrom=azureml-api-1#use-a-curated-environment)\n",
    "* Then, select an experiment. In AzureML, experiments are like a folder that contains all the runs. You can create a new experiment, or select an existing one.\n",
    "* Create a ScriptRun config that contains the information about the script to run, and the environment to use.\n",
    "\n",
    "For more info, please refer to the official documentation: [Configure and submit training jobs](https://learn.microsoft.com/en-us/azure/machine-learning/v1/how-to-set-up-training-targets?view=azureml-api-1#create-an-environment)."
   ]
  },
  {
   "cell_type": "code",
   "execution_count": 3,
   "metadata": {},
   "outputs": [],
   "source": [
    "from azureml.core import Environment\n",
    "\n",
    "# Get a python environment, based on the latest PyTorch image from Azure ML.\n",
    "# It is not recommended to change this, as building your own custom environment will take longer.\n",
    "environment = Environment.get(workspace, name=\"AzureML-pytorch-1.10-ubuntu18.04-py38-cuda11-gpu\")"
   ]
  },
  {
   "attachments": {},
   "cell_type": "markdown",
   "metadata": {},
   "source": [
    "## Create/select an experiment\n",
    "\n",
    "An experiment is like a folder for your runs. You can create a new experiment, or select an existing one. The best practice is to group create a new experiment for each new task. Rules of thumb:\n",
    "* If you are trying to solve a new problem or to use a new model, create a new experiment.\n",
    "* If you are trying to improve an existing model (either with code/config changes or dataset updates), use the same experiment."
   ]
  },
  {
   "cell_type": "code",
   "execution_count": 4,
   "metadata": {},
   "outputs": [
    {
     "data": {
      "text/html": [
       "<table style=\"width:100%\"><tr><th>Name</th><th>Workspace</th><th>Report Page</th><th>Docs Page</th></tr><tr><td>sample_experiment</td><td>kaggle</td><td><a href=\"https://ml.azure.com/experiments/id/9bccfea2-7d7c-4e44-84c6-472feaaf4a89?wsid=/subscriptions/dba5253c-7f60-45fe-86c5-a01af9f846f0/resourcegroups/kaggle-rg/workspaces/kaggle&amp;tid=f86898b1-c3c4-49d1-b7a9-c0278f648395\" target=\"_blank\" rel=\"noopener\">Link to Azure Machine Learning studio</a></td><td><a href=\"https://docs.microsoft.com/en-us/python/api/azureml-core/azureml.core.experiment.Experiment?view=azure-ml-py\" target=\"_blank\" rel=\"noopener\">Link to Documentation</a></td></tr></table>"
      ],
      "text/plain": [
       "Experiment(Name: sample_experiment,\n",
       "Workspace: kaggle)"
      ]
     },
     "execution_count": 4,
     "metadata": {},
     "output_type": "execute_result"
    }
   ],
   "source": [
    "# Create a new experiment folder, one per project/model type\n",
    "from azureml.core import Experiment\n",
    "\n",
    "experiment_name = 'sample_experiment'\n",
    "experiment = Experiment(workspace=workspace, name=experiment_name)\n",
    "experiment"
   ]
  },
  {
   "attachments": {},
   "cell_type": "markdown",
   "metadata": {},
   "source": [
    "# Choose your compute target\n",
    "\n",
    "In \"compute\" tab, you can see compute targets. Click on them to see the price / GPU type / max cluster size, etc.\n",
    "You can see the size of the cluster, how busy each node is, and the price per hour for each compute type.\n",
    "![](images/run_1.png)"
   ]
  },
  {
   "attachments": {},
   "cell_type": "markdown",
   "metadata": {},
   "source": [
    "# Create a ScriptRun config\n",
    "\n",
    "A [`ScriptRunConfig`](https://learn.microsoft.com/en-us/python/api/azureml-core/azureml.core.scriptrunconfig?view=azure-ml-py) object is used to configure the information necessary to submit a run. It's a simple way to configure your run, but it's not the only way. You can also use a `PythonScriptStep` object to configure your run. For more info, please refer to the official documentation: [Configure and submit training jobs](https://docs.microsoft.com/en-us/azure/machine-learning/how-to-set-up-training-targets#create-an-environment)."
   ]
  },
  {
   "cell_type": "code",
   "execution_count": 5,
   "metadata": {},
   "outputs": [],
   "source": [
    "from azureml.core import ScriptRunConfig\n",
    "from azureml.core import Dataset\n",
    "\n",
    "# Create a script config that will run the training script using the dataset\n",
    "# WARNING: ScriptRunConfig is ONLY for python scripts!\n",
    "src = ScriptRunConfig(source_directory=\"./sample_code/\",\n",
    "                      script='train.py',\n",
    "                      compute_target='gpu-t4-lp',\n",
    "                      environment=environment)"
   ]
  },
  {
   "attachments": {},
   "cell_type": "markdown",
   "metadata": {},
   "source": [
    "# Finallly, submit the experiment\n",
    "Don't worry if your run contains bugs! You can always cancel them :)"
   ]
  },
  {
   "cell_type": "code",
   "execution_count": 6,
   "metadata": {},
   "outputs": [
    {
     "data": {
      "text/html": [
       "<table style=\"width:100%\"><tr><th>Experiment</th><th>Id</th><th>Type</th><th>Status</th><th>Details Page</th><th>Docs Page</th></tr><tr><td>sample_experiment</td><td>sample_experiment_1683939214_46697197</td><td>azureml.scriptrun</td><td>Starting</td><td><a href=\"https://ml.azure.com/runs/sample_experiment_1683939214_46697197?wsid=/subscriptions/dba5253c-7f60-45fe-86c5-a01af9f846f0/resourcegroups/kaggle-rg/workspaces/kaggle&amp;tid=f86898b1-c3c4-49d1-b7a9-c0278f648395\" target=\"_blank\" rel=\"noopener\">Link to Azure Machine Learning studio</a></td><td><a href=\"https://docs.microsoft.com/en-us/python/api/azureml-core/azureml.core.script_run.ScriptRun?view=azure-ml-py\" target=\"_blank\" rel=\"noopener\">Link to Documentation</a></td></tr></table>"
      ],
      "text/plain": [
       "Run(Experiment: sample_experiment,\n",
       "Id: sample_experiment_1683939214_46697197,\n",
       "Type: azureml.scriptrun,\n",
       "Status: Starting)"
      ]
     },
     "execution_count": 6,
     "metadata": {},
     "output_type": "execute_result"
    }
   ],
   "source": [
    "# Submit the experiment\n",
    "run = experiment.submit(config=src)\n",
    "run"
   ]
  },
  {
   "attachments": {},
   "cell_type": "markdown",
   "metadata": {},
   "source": [
    "You will then see the run in \"Jobs\" tab. Click on it to manage, and see the logs.\n",
    "![](images/run_2.png)\n",
    "\n",
    "Azure ML will take some time to prepare the job (usually ~10-15 minutes). The reason it takes so long is because it needs to prepare the cluster, the environment, the image, etc. Once it's ready, it will start running the job and you will see `std_log.txt` where you can see the logs from your job.\n",
    "![](images/run_3.png)\n",
    "\n",
    "# Tips\n",
    "\n",
    "* If you're using `V100` or `T4` computes (`gpu-v100-x1` or `gpu-t4-lp`), it is **strongly** advised to train in `FP16` or `BF16`. 16-bit training will accelerate your pipeline and allow you to use larger batch sizes.\n",
    "* Since the warmup time on AzureML is long, please consider experimenting on a local machine or Google Colab first, and then submit the job to AzureML once you're 100% sure that your code is working.\n",
    "* Cancel the job if you see that it's not working to save resources. You can always submit a new job."
   ]
  }
 ],
 "metadata": {
  "kernelspec": {
   "display_name": "kaggle",
   "language": "python",
   "name": "python3"
  },
  "language_info": {
   "codemirror_mode": {
    "name": "ipython",
    "version": 3
   },
   "file_extension": ".py",
   "mimetype": "text/x-python",
   "name": "python",
   "nbconvert_exporter": "python",
   "pygments_lexer": "ipython3",
   "version": "3.9.16"
  },
  "orig_nbformat": 4
 },
 "nbformat": 4,
 "nbformat_minor": 2
}
