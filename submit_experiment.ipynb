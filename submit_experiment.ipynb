{
 "cells": [
  {
   "cell_type": "code",
   "execution_count": 19,
   "metadata": {},
   "outputs": [
    {
     "name": "stdout",
     "output_type": "stream",
     "text": [
      "Requirement already satisfied: azureml-core in /Users/vu/opt/anaconda3/envs/aml_example/lib/python3.9/site-packages (1.50.0)\n",
      "Requirement already satisfied: requests[socks]<3.0.0,>=2.19.1 in /Users/vu/opt/anaconda3/envs/aml_example/lib/python3.9/site-packages (from azureml-core) (2.30.0)\n",
      "Requirement already satisfied: humanfriendly<11.0,>=4.7 in /Users/vu/opt/anaconda3/envs/aml_example/lib/python3.9/site-packages (from azureml-core) (10.0)\n",
      "Requirement already satisfied: docker<7.0.0 in /Users/vu/opt/anaconda3/envs/aml_example/lib/python3.9/site-packages (from azureml-core) (6.1.2)\n",
      "Requirement already satisfied: azure-mgmt-containerregistry<11,>=8.2.0 in /Users/vu/opt/anaconda3/envs/aml_example/lib/python3.9/site-packages (from azureml-core) (10.1.0)\n",
      "Requirement already satisfied: adal<=1.2.7,>=1.2.0 in /Users/vu/opt/anaconda3/envs/aml_example/lib/python3.9/site-packages (from azureml-core) (1.2.7)\n",
      "Requirement already satisfied: azure-mgmt-storage<=21.0.0,>=16.0.0 in /Users/vu/opt/anaconda3/envs/aml_example/lib/python3.9/site-packages (from azureml-core) (21.0.0)\n",
      "Requirement already satisfied: msal-extensions<=1.0.0,>=0.3.0 in /Users/vu/opt/anaconda3/envs/aml_example/lib/python3.9/site-packages (from azureml-core) (1.0.0)\n",
      "Requirement already satisfied: azure-core<2.0.0 in /Users/vu/opt/anaconda3/envs/aml_example/lib/python3.9/site-packages (from azureml-core) (1.26.4)\n",
      "Requirement already satisfied: jmespath<2.0.0 in /Users/vu/opt/anaconda3/envs/aml_example/lib/python3.9/site-packages (from azureml-core) (1.0.1)\n",
      "Requirement already satisfied: pathspec<1.0.0 in /Users/vu/opt/anaconda3/envs/aml_example/lib/python3.9/site-packages (from azureml-core) (0.11.1)\n",
      "Requirement already satisfied: SecretStorage<4.0.0 in /Users/vu/opt/anaconda3/envs/aml_example/lib/python3.9/site-packages (from azureml-core) (3.3.3)\n",
      "Requirement already satisfied: python-dateutil<3.0.0,>=2.7.3 in /Users/vu/opt/anaconda3/envs/aml_example/lib/python3.9/site-packages (from azureml-core) (2.8.2)\n",
      "Requirement already satisfied: PyJWT<3.0.0 in /Users/vu/opt/anaconda3/envs/aml_example/lib/python3.9/site-packages (from azureml-core) (2.7.0)\n",
      "Requirement already satisfied: msrestazure<=0.6.4,>=0.4.33 in /Users/vu/opt/anaconda3/envs/aml_example/lib/python3.9/site-packages (from azureml-core) (0.6.4)\n",
      "Requirement already satisfied: urllib3<2.0.0,>=1.23 in /Users/vu/opt/anaconda3/envs/aml_example/lib/python3.9/site-packages (from azureml-core) (1.26.15)\n",
      "Requirement already satisfied: jsonpickle<4.0.0 in /Users/vu/opt/anaconda3/envs/aml_example/lib/python3.9/site-packages (from azureml-core) (3.0.1)\n",
      "Requirement already satisfied: azure-mgmt-resource<=22.0.0,>=15.0.0 in /Users/vu/opt/anaconda3/envs/aml_example/lib/python3.9/site-packages (from azureml-core) (22.0.0)\n",
      "Requirement already satisfied: argcomplete<3 in /Users/vu/opt/anaconda3/envs/aml_example/lib/python3.9/site-packages (from azureml-core) (2.1.2)\n",
      "Requirement already satisfied: msal<2.0.0,>=1.15.0 in /Users/vu/opt/anaconda3/envs/aml_example/lib/python3.9/site-packages (from azureml-core) (1.22.0)\n",
      "Requirement already satisfied: azure-mgmt-keyvault<11.0.0,>=0.40.0 in /Users/vu/opt/anaconda3/envs/aml_example/lib/python3.9/site-packages (from azureml-core) (10.2.1)\n",
      "Requirement already satisfied: packaging<=23.0,>=20.0 in /Users/vu/opt/anaconda3/envs/aml_example/lib/python3.9/site-packages (from azureml-core) (23.0)\n",
      "Requirement already satisfied: paramiko<4.0.0,>=2.0.8 in /Users/vu/opt/anaconda3/envs/aml_example/lib/python3.9/site-packages (from azureml-core) (3.1.0)\n",
      "Requirement already satisfied: pkginfo in /Users/vu/opt/anaconda3/envs/aml_example/lib/python3.9/site-packages (from azureml-core) (1.9.6)\n",
      "Requirement already satisfied: azure-mgmt-authorization<4,>=0.40.0 in /Users/vu/opt/anaconda3/envs/aml_example/lib/python3.9/site-packages (from azureml-core) (3.0.0)\n",
      "Requirement already satisfied: pytz in /Users/vu/opt/anaconda3/envs/aml_example/lib/python3.9/site-packages (from azureml-core) (2023.3)\n",
      "Requirement already satisfied: backports.tempfile in /Users/vu/opt/anaconda3/envs/aml_example/lib/python3.9/site-packages (from azureml-core) (1.0)\n",
      "Requirement already satisfied: cryptography!=1.9,!=2.0.*,!=2.1.*,!=2.2.*,<41 in /Users/vu/opt/anaconda3/envs/aml_example/lib/python3.9/site-packages (from azureml-core) (40.0.2)\n",
      "Requirement already satisfied: contextlib2<22.0.0 in /Users/vu/opt/anaconda3/envs/aml_example/lib/python3.9/site-packages (from azureml-core) (21.6.0)\n",
      "Requirement already satisfied: msrest<=0.7.1,>=0.5.1 in /Users/vu/opt/anaconda3/envs/aml_example/lib/python3.9/site-packages (from azureml-core) (0.7.1)\n",
      "Requirement already satisfied: pyopenssl<24.0.0 in /Users/vu/opt/anaconda3/envs/aml_example/lib/python3.9/site-packages (from azureml-core) (23.1.1)\n",
      "Requirement already satisfied: knack~=0.10.0 in /Users/vu/opt/anaconda3/envs/aml_example/lib/python3.9/site-packages (from azureml-core) (0.10.1)\n",
      "Requirement already satisfied: ndg-httpsclient<=0.5.1 in /Users/vu/opt/anaconda3/envs/aml_example/lib/python3.9/site-packages (from azureml-core) (0.5.1)\n",
      "Requirement already satisfied: azure-common<2.0.0,>=1.1.12 in /Users/vu/opt/anaconda3/envs/aml_example/lib/python3.9/site-packages (from azureml-core) (1.1.28)\n",
      "Requirement already satisfied: azure-graphrbac<1.0.0,>=0.40.0 in /Users/vu/opt/anaconda3/envs/aml_example/lib/python3.9/site-packages (from azureml-core) (0.61.1)\n",
      "Requirement already satisfied: typing-extensions>=4.3.0 in /Users/vu/opt/anaconda3/envs/aml_example/lib/python3.9/site-packages (from azure-core<2.0.0->azureml-core) (4.5.0)\n",
      "Requirement already satisfied: six>=1.11.0 in /Users/vu/opt/anaconda3/envs/aml_example/lib/python3.9/site-packages (from azure-core<2.0.0->azureml-core) (1.16.0)\n",
      "Requirement already satisfied: azure-mgmt-core<2.0.0,>=1.3.2 in /Users/vu/opt/anaconda3/envs/aml_example/lib/python3.9/site-packages (from azure-mgmt-authorization<4,>=0.40.0->azureml-core) (1.4.0)\n",
      "Requirement already satisfied: isodate<1.0.0,>=0.6.1 in /Users/vu/opt/anaconda3/envs/aml_example/lib/python3.9/site-packages (from azure-mgmt-keyvault<11.0.0,>=0.40.0->azureml-core) (0.6.1)\n",
      "Requirement already satisfied: cffi>=1.12 in /Users/vu/opt/anaconda3/envs/aml_example/lib/python3.9/site-packages (from cryptography!=1.9,!=2.0.*,!=2.1.*,!=2.2.*,<41->azureml-core) (1.15.1)\n",
      "Requirement already satisfied: websocket-client>=0.32.0 in /Users/vu/opt/anaconda3/envs/aml_example/lib/python3.9/site-packages (from docker<7.0.0->azureml-core) (1.5.1)\n",
      "Requirement already satisfied: pygments in /Users/vu/opt/anaconda3/envs/aml_example/lib/python3.9/site-packages (from knack~=0.10.0->azureml-core) (2.15.1)\n",
      "Requirement already satisfied: tabulate in /Users/vu/opt/anaconda3/envs/aml_example/lib/python3.9/site-packages (from knack~=0.10.0->azureml-core) (0.9.0)\n",
      "Requirement already satisfied: pyyaml in /Users/vu/opt/anaconda3/envs/aml_example/lib/python3.9/site-packages (from knack~=0.10.0->azureml-core) (6.0)\n",
      "Requirement already satisfied: portalocker<3,>=1.0 in /Users/vu/opt/anaconda3/envs/aml_example/lib/python3.9/site-packages (from msal-extensions<=1.0.0,>=0.3.0->azureml-core) (2.7.0)\n",
      "Requirement already satisfied: certifi>=2017.4.17 in /Users/vu/opt/anaconda3/envs/aml_example/lib/python3.9/site-packages (from msrest<=0.7.1,>=0.5.1->azureml-core) (2023.5.7)\n",
      "Requirement already satisfied: requests-oauthlib>=0.5.0 in /Users/vu/opt/anaconda3/envs/aml_example/lib/python3.9/site-packages (from msrest<=0.7.1,>=0.5.1->azureml-core) (1.3.1)\n",
      "Requirement already satisfied: pyasn1>=0.1.1 in /Users/vu/opt/anaconda3/envs/aml_example/lib/python3.9/site-packages (from ndg-httpsclient<=0.5.1->azureml-core) (0.5.0)\n",
      "Requirement already satisfied: pynacl>=1.5 in /Users/vu/opt/anaconda3/envs/aml_example/lib/python3.9/site-packages (from paramiko<4.0.0,>=2.0.8->azureml-core) (1.5.0)\n",
      "Requirement already satisfied: bcrypt>=3.2 in /Users/vu/opt/anaconda3/envs/aml_example/lib/python3.9/site-packages (from paramiko<4.0.0,>=2.0.8->azureml-core) (4.0.1)\n",
      "Requirement already satisfied: idna<4,>=2.5 in /Users/vu/opt/anaconda3/envs/aml_example/lib/python3.9/site-packages (from requests[socks]<3.0.0,>=2.19.1->azureml-core) (3.4)\n",
      "Requirement already satisfied: charset-normalizer<4,>=2 in /Users/vu/opt/anaconda3/envs/aml_example/lib/python3.9/site-packages (from requests[socks]<3.0.0,>=2.19.1->azureml-core) (3.1.0)\n",
      "Requirement already satisfied: PySocks!=1.5.7,>=1.5.6 in /Users/vu/opt/anaconda3/envs/aml_example/lib/python3.9/site-packages (from requests[socks]<3.0.0,>=2.19.1->azureml-core) (1.7.1)\n",
      "Requirement already satisfied: jeepney>=0.6 in /Users/vu/opt/anaconda3/envs/aml_example/lib/python3.9/site-packages (from SecretStorage<4.0.0->azureml-core) (0.8.0)\n",
      "Requirement already satisfied: backports.weakref in /Users/vu/opt/anaconda3/envs/aml_example/lib/python3.9/site-packages (from backports.tempfile->azureml-core) (1.0.post1)\n",
      "Requirement already satisfied: pycparser in /Users/vu/opt/anaconda3/envs/aml_example/lib/python3.9/site-packages (from cffi>=1.12->cryptography!=1.9,!=2.0.*,!=2.1.*,!=2.2.*,<41->azureml-core) (2.21)\n",
      "Requirement already satisfied: oauthlib>=3.0.0 in /Users/vu/opt/anaconda3/envs/aml_example/lib/python3.9/site-packages (from requests-oauthlib>=0.5.0->msrest<=0.7.1,>=0.5.1->azureml-core) (3.2.2)\n",
      "Requirement already satisfied: azure-ml-component in /Users/vu/opt/anaconda3/envs/aml_example/lib/python3.9/site-packages (0.9.18.post2)\n",
      "Requirement already satisfied: jinja2 in /Users/vu/opt/anaconda3/envs/aml_example/lib/python3.9/site-packages (from azure-ml-component) (3.1.2)\n",
      "Requirement already satisfied: azureml-core in /Users/vu/opt/anaconda3/envs/aml_example/lib/python3.9/site-packages (from azure-ml-component) (1.50.0)\n",
      "Requirement already satisfied: pydash in /Users/vu/opt/anaconda3/envs/aml_example/lib/python3.9/site-packages (from azure-ml-component) (7.0.3)\n",
      "Requirement already satisfied: ruamel.yaml<=0.17.16,>=0.17.10 in /Users/vu/opt/anaconda3/envs/aml_example/lib/python3.9/site-packages (from azure-ml-component) (0.17.16)\n",
      "Requirement already satisfied: bytecode>=0.13.0 in /Users/vu/opt/anaconda3/envs/aml_example/lib/python3.9/site-packages (from azure-ml-component) (0.14.1)\n",
      "Requirement already satisfied: tqdm in /Users/vu/opt/anaconda3/envs/aml_example/lib/python3.9/site-packages (from azure-ml-component) (4.65.0)\n",
      "Requirement already satisfied: azureml-telemetry in /Users/vu/opt/anaconda3/envs/aml_example/lib/python3.9/site-packages (from azure-ml-component) (1.50.0)\n",
      "Requirement already satisfied: azure-core>=1.16.0 in /Users/vu/opt/anaconda3/envs/aml_example/lib/python3.9/site-packages (from azure-ml-component) (1.26.4)\n",
      "Requirement already satisfied: psutil in /Users/vu/opt/anaconda3/envs/aml_example/lib/python3.9/site-packages (from azure-ml-component) (5.9.5)\n",
      "Requirement already satisfied: omegaconf>=2.0.5 in /Users/vu/opt/anaconda3/envs/aml_example/lib/python3.9/site-packages (from azure-ml-component) (2.3.0)\n",
      "Requirement already satisfied: typing-extensions>=4.3.0 in /Users/vu/opt/anaconda3/envs/aml_example/lib/python3.9/site-packages (from azure-core>=1.16.0->azure-ml-component) (4.5.0)\n",
      "Requirement already satisfied: requests>=2.18.4 in /Users/vu/opt/anaconda3/envs/aml_example/lib/python3.9/site-packages (from azure-core>=1.16.0->azure-ml-component) (2.30.0)\n",
      "Requirement already satisfied: six>=1.11.0 in /Users/vu/opt/anaconda3/envs/aml_example/lib/python3.9/site-packages (from azure-core>=1.16.0->azure-ml-component) (1.16.0)\n",
      "Requirement already satisfied: antlr4-python3-runtime==4.9.* in /Users/vu/opt/anaconda3/envs/aml_example/lib/python3.9/site-packages (from omegaconf>=2.0.5->azure-ml-component) (4.9.3)\n",
      "Requirement already satisfied: PyYAML>=5.1.0 in /Users/vu/opt/anaconda3/envs/aml_example/lib/python3.9/site-packages (from omegaconf>=2.0.5->azure-ml-component) (6.0)\n",
      "Requirement already satisfied: ruamel.yaml.clib>=0.1.2 in /Users/vu/opt/anaconda3/envs/aml_example/lib/python3.9/site-packages (from ruamel.yaml<=0.17.16,>=0.17.10->azure-ml-component) (0.2.7)\n",
      "Requirement already satisfied: pkginfo in /Users/vu/opt/anaconda3/envs/aml_example/lib/python3.9/site-packages (from azureml-core->azure-ml-component) (1.9.6)\n",
      "Requirement already satisfied: ndg-httpsclient<=0.5.1 in /Users/vu/opt/anaconda3/envs/aml_example/lib/python3.9/site-packages (from azureml-core->azure-ml-component) (0.5.1)\n",
      "Requirement already satisfied: pytz in /Users/vu/opt/anaconda3/envs/aml_example/lib/python3.9/site-packages (from azureml-core->azure-ml-component) (2023.3)\n",
      "Requirement already satisfied: msrestazure<=0.6.4,>=0.4.33 in /Users/vu/opt/anaconda3/envs/aml_example/lib/python3.9/site-packages (from azureml-core->azure-ml-component) (0.6.4)\n",
      "Requirement already satisfied: msrest<=0.7.1,>=0.5.1 in /Users/vu/opt/anaconda3/envs/aml_example/lib/python3.9/site-packages (from azureml-core->azure-ml-component) (0.7.1)\n",
      "Requirement already satisfied: pyopenssl<24.0.0 in /Users/vu/opt/anaconda3/envs/aml_example/lib/python3.9/site-packages (from azureml-core->azure-ml-component) (23.1.1)\n",
      "Requirement already satisfied: azure-mgmt-authorization<4,>=0.40.0 in /Users/vu/opt/anaconda3/envs/aml_example/lib/python3.9/site-packages (from azureml-core->azure-ml-component) (3.0.0)\n",
      "Requirement already satisfied: docker<7.0.0 in /Users/vu/opt/anaconda3/envs/aml_example/lib/python3.9/site-packages (from azureml-core->azure-ml-component) (6.1.2)\n",
      "Requirement already satisfied: urllib3<2.0.0,>=1.23 in /Users/vu/opt/anaconda3/envs/aml_example/lib/python3.9/site-packages (from azureml-core->azure-ml-component) (1.26.15)\n",
      "Requirement already satisfied: PyJWT<3.0.0 in /Users/vu/opt/anaconda3/envs/aml_example/lib/python3.9/site-packages (from azureml-core->azure-ml-component) (2.7.0)\n",
      "Requirement already satisfied: azure-mgmt-resource<=22.0.0,>=15.0.0 in /Users/vu/opt/anaconda3/envs/aml_example/lib/python3.9/site-packages (from azureml-core->azure-ml-component) (22.0.0)\n",
      "Requirement already satisfied: azure-mgmt-keyvault<11.0.0,>=0.40.0 in /Users/vu/opt/anaconda3/envs/aml_example/lib/python3.9/site-packages (from azureml-core->azure-ml-component) (10.2.1)\n",
      "Requirement already satisfied: argcomplete<3 in /Users/vu/opt/anaconda3/envs/aml_example/lib/python3.9/site-packages (from azureml-core->azure-ml-component) (2.1.2)\n",
      "Requirement already satisfied: azure-graphrbac<1.0.0,>=0.40.0 in /Users/vu/opt/anaconda3/envs/aml_example/lib/python3.9/site-packages (from azureml-core->azure-ml-component) (0.61.1)\n",
      "Requirement already satisfied: knack~=0.10.0 in /Users/vu/opt/anaconda3/envs/aml_example/lib/python3.9/site-packages (from azureml-core->azure-ml-component) (0.10.1)\n",
      "Requirement already satisfied: humanfriendly<11.0,>=4.7 in /Users/vu/opt/anaconda3/envs/aml_example/lib/python3.9/site-packages (from azureml-core->azure-ml-component) (10.0)\n",
      "Requirement already satisfied: azure-common<2.0.0,>=1.1.12 in /Users/vu/opt/anaconda3/envs/aml_example/lib/python3.9/site-packages (from azureml-core->azure-ml-component) (1.1.28)\n",
      "Requirement already satisfied: python-dateutil<3.0.0,>=2.7.3 in /Users/vu/opt/anaconda3/envs/aml_example/lib/python3.9/site-packages (from azureml-core->azure-ml-component) (2.8.2)\n",
      "Requirement already satisfied: backports.tempfile in /Users/vu/opt/anaconda3/envs/aml_example/lib/python3.9/site-packages (from azureml-core->azure-ml-component) (1.0)\n",
      "Requirement already satisfied: jsonpickle<4.0.0 in /Users/vu/opt/anaconda3/envs/aml_example/lib/python3.9/site-packages (from azureml-core->azure-ml-component) (3.0.1)\n",
      "Requirement already satisfied: msal-extensions<=1.0.0,>=0.3.0 in /Users/vu/opt/anaconda3/envs/aml_example/lib/python3.9/site-packages (from azureml-core->azure-ml-component) (1.0.0)\n",
      "Requirement already satisfied: cryptography!=1.9,!=2.0.*,!=2.1.*,!=2.2.*,<41 in /Users/vu/opt/anaconda3/envs/aml_example/lib/python3.9/site-packages (from azureml-core->azure-ml-component) (40.0.2)\n",
      "Requirement already satisfied: pathspec<1.0.0 in /Users/vu/opt/anaconda3/envs/aml_example/lib/python3.9/site-packages (from azureml-core->azure-ml-component) (0.11.1)\n",
      "Requirement already satisfied: contextlib2<22.0.0 in /Users/vu/opt/anaconda3/envs/aml_example/lib/python3.9/site-packages (from azureml-core->azure-ml-component) (21.6.0)\n",
      "Requirement already satisfied: jmespath<2.0.0 in /Users/vu/opt/anaconda3/envs/aml_example/lib/python3.9/site-packages (from azureml-core->azure-ml-component) (1.0.1)\n",
      "Requirement already satisfied: paramiko<4.0.0,>=2.0.8 in /Users/vu/opt/anaconda3/envs/aml_example/lib/python3.9/site-packages (from azureml-core->azure-ml-component) (3.1.0)\n",
      "Requirement already satisfied: azure-mgmt-containerregistry<11,>=8.2.0 in /Users/vu/opt/anaconda3/envs/aml_example/lib/python3.9/site-packages (from azureml-core->azure-ml-component) (10.1.0)\n",
      "Requirement already satisfied: azure-mgmt-storage<=21.0.0,>=16.0.0 in /Users/vu/opt/anaconda3/envs/aml_example/lib/python3.9/site-packages (from azureml-core->azure-ml-component) (21.0.0)\n",
      "Requirement already satisfied: msal<2.0.0,>=1.15.0 in /Users/vu/opt/anaconda3/envs/aml_example/lib/python3.9/site-packages (from azureml-core->azure-ml-component) (1.22.0)\n",
      "Requirement already satisfied: SecretStorage<4.0.0 in /Users/vu/opt/anaconda3/envs/aml_example/lib/python3.9/site-packages (from azureml-core->azure-ml-component) (3.3.3)\n",
      "Requirement already satisfied: packaging<=23.0,>=20.0 in /Users/vu/opt/anaconda3/envs/aml_example/lib/python3.9/site-packages (from azureml-core->azure-ml-component) (23.0)\n",
      "Requirement already satisfied: adal<=1.2.7,>=1.2.0 in /Users/vu/opt/anaconda3/envs/aml_example/lib/python3.9/site-packages (from azureml-core->azure-ml-component) (1.2.7)\n",
      "Requirement already satisfied: applicationinsights in /Users/vu/opt/anaconda3/envs/aml_example/lib/python3.9/site-packages (from azureml-telemetry->azure-ml-component) (0.11.10)\n",
      "Requirement already satisfied: MarkupSafe>=2.0 in /Users/vu/opt/anaconda3/envs/aml_example/lib/python3.9/site-packages (from jinja2->azure-ml-component) (2.1.2)\n",
      "Requirement already satisfied: azure-mgmt-core<2.0.0,>=1.3.2 in /Users/vu/opt/anaconda3/envs/aml_example/lib/python3.9/site-packages (from azure-mgmt-authorization<4,>=0.40.0->azureml-core->azure-ml-component) (1.4.0)\n",
      "Requirement already satisfied: isodate<1.0.0,>=0.6.1 in /Users/vu/opt/anaconda3/envs/aml_example/lib/python3.9/site-packages (from azure-mgmt-keyvault<11.0.0,>=0.40.0->azureml-core->azure-ml-component) (0.6.1)\n",
      "Requirement already satisfied: cffi>=1.12 in /Users/vu/opt/anaconda3/envs/aml_example/lib/python3.9/site-packages (from cryptography!=1.9,!=2.0.*,!=2.1.*,!=2.2.*,<41->azureml-core->azure-ml-component) (1.15.1)\n",
      "Requirement already satisfied: websocket-client>=0.32.0 in /Users/vu/opt/anaconda3/envs/aml_example/lib/python3.9/site-packages (from docker<7.0.0->azureml-core->azure-ml-component) (1.5.1)\n",
      "Requirement already satisfied: pygments in /Users/vu/opt/anaconda3/envs/aml_example/lib/python3.9/site-packages (from knack~=0.10.0->azureml-core->azure-ml-component) (2.15.1)\n",
      "Requirement already satisfied: tabulate in /Users/vu/opt/anaconda3/envs/aml_example/lib/python3.9/site-packages (from knack~=0.10.0->azureml-core->azure-ml-component) (0.9.0)\n",
      "Requirement already satisfied: portalocker<3,>=1.0 in /Users/vu/opt/anaconda3/envs/aml_example/lib/python3.9/site-packages (from msal-extensions<=1.0.0,>=0.3.0->azureml-core->azure-ml-component) (2.7.0)\n",
      "Requirement already satisfied: certifi>=2017.4.17 in /Users/vu/opt/anaconda3/envs/aml_example/lib/python3.9/site-packages (from msrest<=0.7.1,>=0.5.1->azureml-core->azure-ml-component) (2023.5.7)\n",
      "Requirement already satisfied: requests-oauthlib>=0.5.0 in /Users/vu/opt/anaconda3/envs/aml_example/lib/python3.9/site-packages (from msrest<=0.7.1,>=0.5.1->azureml-core->azure-ml-component) (1.3.1)\n",
      "Requirement already satisfied: pyasn1>=0.1.1 in /Users/vu/opt/anaconda3/envs/aml_example/lib/python3.9/site-packages (from ndg-httpsclient<=0.5.1->azureml-core->azure-ml-component) (0.5.0)\n",
      "Requirement already satisfied: bcrypt>=3.2 in /Users/vu/opt/anaconda3/envs/aml_example/lib/python3.9/site-packages (from paramiko<4.0.0,>=2.0.8->azureml-core->azure-ml-component) (4.0.1)\n",
      "Requirement already satisfied: pynacl>=1.5 in /Users/vu/opt/anaconda3/envs/aml_example/lib/python3.9/site-packages (from paramiko<4.0.0,>=2.0.8->azureml-core->azure-ml-component) (1.5.0)\n",
      "Requirement already satisfied: charset-normalizer<4,>=2 in /Users/vu/opt/anaconda3/envs/aml_example/lib/python3.9/site-packages (from requests>=2.18.4->azure-core>=1.16.0->azure-ml-component) (3.1.0)\n",
      "Requirement already satisfied: idna<4,>=2.5 in /Users/vu/opt/anaconda3/envs/aml_example/lib/python3.9/site-packages (from requests>=2.18.4->azure-core>=1.16.0->azure-ml-component) (3.4)\n",
      "Requirement already satisfied: PySocks!=1.5.7,>=1.5.6 in /Users/vu/opt/anaconda3/envs/aml_example/lib/python3.9/site-packages (from requests>=2.18.4->azure-core>=1.16.0->azure-ml-component) (1.7.1)\n",
      "Requirement already satisfied: jeepney>=0.6 in /Users/vu/opt/anaconda3/envs/aml_example/lib/python3.9/site-packages (from SecretStorage<4.0.0->azureml-core->azure-ml-component) (0.8.0)\n",
      "Requirement already satisfied: backports.weakref in /Users/vu/opt/anaconda3/envs/aml_example/lib/python3.9/site-packages (from backports.tempfile->azureml-core->azure-ml-component) (1.0.post1)\n",
      "Requirement already satisfied: pycparser in /Users/vu/opt/anaconda3/envs/aml_example/lib/python3.9/site-packages (from cffi>=1.12->cryptography!=1.9,!=2.0.*,!=2.1.*,!=2.2.*,<41->azureml-core->azure-ml-component) (2.21)\n",
      "Requirement already satisfied: oauthlib>=3.0.0 in /Users/vu/opt/anaconda3/envs/aml_example/lib/python3.9/site-packages (from requests-oauthlib>=0.5.0->msrest<=0.7.1,>=0.5.1->azureml-core->azure-ml-component) (3.2.2)\n"
     ]
    }
   ],
   "source": [
    "!pip install azureml-core\n",
    "!pip install azure-ml-component"
   ]
  },
  {
   "attachments": {},
   "cell_type": "markdown",
   "metadata": {},
   "source": [
    "# Connect to AzureML Workspace\n",
    "\n",
    "AML workspace is the top-level resource for Azure Machine Learning, providing a centralized place to work with all the artifacts you create when you use Azure Machine Learning. The workspace holds all your experiments, compute targets, models, datastores, etc.\n",
    "\n",
    "First, download the workspace credentials to `config.json` using the Azure portal. On upper-right corner, click on the \"Visual Studio Enterprise Subscription\" tab, and click on \"Download config file\" link.\n",
    "![](images/config_download.png)"
   ]
  },
  {
   "cell_type": "code",
   "execution_count": 12,
   "metadata": {},
   "outputs": [
    {
     "data": {
      "text/plain": [
       "Workspace.create(name='kaggle', subscription_id='dba5253c-7f60-45fe-86c5-a01af9f846f0', resource_group='kaggle-rg')"
      ]
     },
     "execution_count": 12,
     "metadata": {},
     "output_type": "execute_result"
    }
   ],
   "source": [
    "from azureml.core import Workspace, Experiment, Run, Datastore, Dataset\n",
    "from azure.ml.component import Component, dsl\n",
    "\n",
    "# This will prompt you to login to Azure\n",
    "workspace = Workspace.from_config()\n",
    "\n",
    "# Let's take a look at the workspace information\n",
    "workspace"
   ]
  },
  {
   "attachments": {},
   "cell_type": "markdown",
   "metadata": {},
   "source": [
    "# Uploading a dataset to Azure Blob Storage\n",
    "\n",
    "To upload your dataset to Azure Blob Storage:\n",
    "* Go to \"data\" tab, and click on \"Create\" button.\n",
    "  ![](images/register_dataset_1.png)\n",
    "\n",
    "* Give a unique name to your dataset. Select \"Folder\" type, and click on \"Next\" button.\n",
    "  ![](images/register_dataset_2.png)\n",
    "\n",
    "* Select \"Upload files from local\" option, and click on \"Next\" button.\n",
    "  ![](images/register_dataset_3.png)"
   ]
  },
  {
   "attachments": {},
   "cell_type": "markdown",
   "metadata": {},
   "source": [
    "# Submit an experiment that uses your dataset\n",
    "\n",
    "* First, select a base environment. It's easier to start with some default Ubuntu environments officially managed by Microsoft, with Pytorch and other ML libraries pre-installed. List of curated environments in AzureML: [Manage Azure Machine Learning environments with the CLI & SDK (v2)](https://learn.microsoft.com/en-us/azure/machine-learning/how-to-manage-environments-v2?view=azureml-api-2&viewFallbackFrom=azureml-api-1&tabs=cli#use-a-curated-environment)\n",
    "* Then, select an experiment. In AzureML, experiments are like a folder that contains all the runs. You can create a new experiment, or select an existing one.\n",
    "* Create a ScriptRun config that contains the information about the script to run, and the environment to use."
   ]
  },
  {
   "cell_type": "code",
   "execution_count": 51,
   "metadata": {},
   "outputs": [],
   "source": [
    "from azureml.core import Environment\n",
    "\n",
    "# Get a python environment, based on the latest PyTorch image from Azure ML\n",
    "environment = Environment.get(workspace, name=\"AzureML-pytorch-1.10-ubuntu18.04-py38-cuda11-gpu\")"
   ]
  },
  {
   "attachments": {},
   "cell_type": "markdown",
   "metadata": {},
   "source": [
    "# Create/select an experiment"
   ]
  },
  {
   "cell_type": "code",
   "execution_count": 46,
   "metadata": {},
   "outputs": [
    {
     "data": {
      "text/html": [
       "<table style=\"width:100%\"><tr><th>Name</th><th>Workspace</th><th>Report Page</th><th>Docs Page</th></tr><tr><td>sample_experiment</td><td>kaggle</td><td><a href=\"https://ml.azure.com/experiments/id/9bccfea2-7d7c-4e44-84c6-472feaaf4a89?wsid=/subscriptions/dba5253c-7f60-45fe-86c5-a01af9f846f0/resourcegroups/kaggle-rg/workspaces/kaggle&amp;tid=f86898b1-c3c4-49d1-b7a9-c0278f648395\" target=\"_blank\" rel=\"noopener\">Link to Azure Machine Learning studio</a></td><td><a href=\"https://docs.microsoft.com/en-us/python/api/azureml-core/azureml.core.experiment.Experiment?view=azure-ml-py\" target=\"_blank\" rel=\"noopener\">Link to Documentation</a></td></tr></table>"
      ],
      "text/plain": [
       "Experiment(Name: sample_experiment,\n",
       "Workspace: kaggle)"
      ]
     },
     "execution_count": 46,
     "metadata": {},
     "output_type": "execute_result"
    }
   ],
   "source": [
    "# Create a new experiment folder, one per project/model type\n",
    "from azureml.core import Experiment\n",
    "\n",
    "experiment_name = 'sample_experiment'\n",
    "experiment = Experiment(workspace=workspace, name=experiment_name)\n",
    "experiment"
   ]
  },
  {
   "attachments": {},
   "cell_type": "markdown",
   "metadata": {},
   "source": [
    "# Choose your compute target\n",
    "\n",
    "In \"compute\" tab, you can see compute targets. Click on them to see the price / GPU type / max cluster size, etc.\n",
    "![](images/run_1.png)"
   ]
  },
  {
   "cell_type": "code",
   "execution_count": 47,
   "metadata": {},
   "outputs": [
    {
     "data": {
      "text/plain": [
       "{'gpu-p100-x1': AmlCompute(workspace=Workspace.create(name='kaggle', subscription_id='dba5253c-7f60-45fe-86c5-a01af9f846f0', resource_group='kaggle-rg'), name=gpu-p100-x1, id=/subscriptions/dba5253c-7f60-45fe-86c5-a01af9f846f0/resourceGroups/kaggle-rg/providers/Microsoft.MachineLearningServices/workspaces/kaggle/computes/gpu-p100-x1, type=AmlCompute, provisioning_state=Succeeded, location=westus2, tags={}),\n",
       " 'gpu-v100-x1': AmlCompute(workspace=Workspace.create(name='kaggle', subscription_id='dba5253c-7f60-45fe-86c5-a01af9f846f0', resource_group='kaggle-rg'), name=gpu-v100-x1, id=/subscriptions/dba5253c-7f60-45fe-86c5-a01af9f846f0/resourceGroups/kaggle-rg/providers/Microsoft.MachineLearningServices/workspaces/kaggle/computes/gpu-v100-x1, type=AmlCompute, provisioning_state=Succeeded, location=westus2, tags={}),\n",
       " 'gpu-t4-lp': AmlCompute(workspace=Workspace.create(name='kaggle', subscription_id='dba5253c-7f60-45fe-86c5-a01af9f846f0', resource_group='kaggle-rg'), name=gpu-t4-lp, id=/subscriptions/dba5253c-7f60-45fe-86c5-a01af9f846f0/resourceGroups/kaggle-rg/providers/Microsoft.MachineLearningServices/workspaces/kaggle/computes/gpu-t4-lp, type=AmlCompute, provisioning_state=Succeeded, location=westus2, tags={}),\n",
       " 'gpu-p40-lp': AmlCompute(workspace=Workspace.create(name='kaggle', subscription_id='dba5253c-7f60-45fe-86c5-a01af9f846f0', resource_group='kaggle-rg'), name=gpu-p40-lp, id=/subscriptions/dba5253c-7f60-45fe-86c5-a01af9f846f0/resourceGroups/kaggle-rg/providers/Microsoft.MachineLearningServices/workspaces/kaggle/computes/gpu-p40-lp, type=AmlCompute, provisioning_state=Succeeded, location=westus2, tags={}),\n",
       " 'gpu-a100-lp': AmlCompute(workspace=Workspace.create(name='kaggle', subscription_id='dba5253c-7f60-45fe-86c5-a01af9f846f0', resource_group='kaggle-rg'), name=gpu-a100-lp, id=/subscriptions/dba5253c-7f60-45fe-86c5-a01af9f846f0/resourceGroups/kaggle-rg/providers/Microsoft.MachineLearningServices/workspaces/kaggle/computes/gpu-a100-lp, type=AmlCompute, provisioning_state=Succeeded, location=westus2, tags={}),\n",
       " 'cpu-d13v2-lp': AmlCompute(workspace=Workspace.create(name='kaggle', subscription_id='dba5253c-7f60-45fe-86c5-a01af9f846f0', resource_group='kaggle-rg'), name=cpu-d13v2-lp, id=/subscriptions/dba5253c-7f60-45fe-86c5-a01af9f846f0/resourceGroups/kaggle-rg/providers/Microsoft.MachineLearningServices/workspaces/kaggle/computes/cpu-d13v2-lp, type=AmlCompute, provisioning_state=Succeeded, location=westus2, tags={})}"
      ]
     },
     "execution_count": 47,
     "metadata": {},
     "output_type": "execute_result"
    }
   ],
   "source": [
    "# Print compute targets in the workspace\n",
    "workspace.compute_targets"
   ]
  },
  {
   "cell_type": "code",
   "execution_count": 48,
   "metadata": {},
   "outputs": [],
   "source": [
    "from azureml.core import ScriptRunConfig\n",
    "from azureml.core import Dataset\n",
    "\n",
    "# Create a script config that will run the training script using the dataset\n",
    "src = ScriptRunConfig(source_directory=\"./sample_code/\",\n",
    "                      script='main.sh',\n",
    "                      compute_target='gpu-t4-lp',\n",
    "                      environment=environment)"
   ]
  },
  {
   "attachments": {},
   "cell_type": "markdown",
   "metadata": {},
   "source": [
    "# Finallly, submit the experiment\n",
    "Don't worry if your run contains bugs! You can always cancel them :)"
   ]
  },
  {
   "cell_type": "code",
   "execution_count": 49,
   "metadata": {},
   "outputs": [],
   "source": [
    "# Submit the experiment\n",
    "run = experiment.submit(config=src)"
   ]
  },
  {
   "cell_type": "code",
   "execution_count": null,
   "metadata": {},
   "outputs": [],
   "source": []
  }
 ],
 "metadata": {
  "kernelspec": {
   "display_name": "kaggle",
   "language": "python",
   "name": "python3"
  },
  "language_info": {
   "codemirror_mode": {
    "name": "ipython",
    "version": 3
   },
   "file_extension": ".py",
   "mimetype": "text/x-python",
   "name": "python",
   "nbconvert_exporter": "python",
   "pygments_lexer": "ipython3",
   "version": "3.9.16"
  },
  "orig_nbformat": 4
 },
 "nbformat": 4,
 "nbformat_minor": 2
}
